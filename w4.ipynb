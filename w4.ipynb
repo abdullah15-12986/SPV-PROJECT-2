{
  "nbformat": 4,
  "nbformat_minor": 0,
  "metadata": {
    "colab": {
      "name": "python.ipynb",
      "provenance": [],
      "collapsed_sections": []
    },
    "kernelspec": {
      "name": "python3",
      "display_name": "Python 3"
    },
    "language_info": {
      "name": "python"
    }
  },
  "cells": [
    {
      "cell_type": "code",
      "metadata": {
        "colab": {
          "base_uri": "https://localhost:8080/"
        },
        "id": "pN3cWCLi7f6E",
        "outputId": "374ec53d-80d1-4a3b-aa1e-28d6f425e903"
      },
      "source": [
        "\n",
        "from google.colab import drive\n",
        "drive.mount('/content/gdrive')"
      ],
      "execution_count": 39,
      "outputs": [
        {
          "output_type": "stream",
          "text": [
            "Drive already mounted at /content/gdrive; to attempt to forcibly remount, call drive.mount(\"/content/gdrive\", force_remount=True).\n"
          ],
          "name": "stdout"
        }
      ]
    },
    {
      "cell_type": "code",
      "metadata": {
        "id": "ho43mAGY8gJd"
      },
      "source": [
        "import pandas as pd\n",
        "df=pd.read_csv('/content/gdrive/MyDrive/S V/SPV.csv')"
      ],
      "execution_count": 40,
      "outputs": []
    },
    {
      "cell_type": "code",
      "metadata": {
        "colab": {
          "base_uri": "https://localhost:8080/",
          "height": 204
        },
        "id": "J6K4D-RO9Tcf",
        "outputId": "e1d5e872-48d9-480a-d115-1f621ae88100"
      },
      "source": [
        "df.head()"
      ],
      "execution_count": 41,
      "outputs": [
        {
          "output_type": "execute_result",
          "data": {
            "text/html": [
              "<div>\n",
              "<style scoped>\n",
              "    .dataframe tbody tr th:only-of-type {\n",
              "        vertical-align: middle;\n",
              "    }\n",
              "\n",
              "    .dataframe tbody tr th {\n",
              "        vertical-align: top;\n",
              "    }\n",
              "\n",
              "    .dataframe thead th {\n",
              "        text-align: right;\n",
              "    }\n",
              "</style>\n",
              "<table border=\"1\" class=\"dataframe\">\n",
              "  <thead>\n",
              "    <tr style=\"text-align: right;\">\n",
              "      <th></th>\n",
              "      <th>Order ID</th>\n",
              "      <th>Order Date</th>\n",
              "      <th>CustomerName</th>\n",
              "      <th>State</th>\n",
              "      <th>City</th>\n",
              "      <th>Amount</th>\n",
              "      <th>Profit</th>\n",
              "      <th>Quantity</th>\n",
              "      <th>Category</th>\n",
              "      <th>Sub-Category</th>\n",
              "      <th>gender</th>\n",
              "      <th>year of order</th>\n",
              "    </tr>\n",
              "  </thead>\n",
              "  <tbody>\n",
              "    <tr>\n",
              "      <th>0</th>\n",
              "      <td>B-25601</td>\n",
              "      <td>1/4/2012</td>\n",
              "      <td>Bharat</td>\n",
              "      <td>Gujarat</td>\n",
              "      <td>Ahmedabad</td>\n",
              "      <td>1275</td>\n",
              "      <td>1148</td>\n",
              "      <td>7</td>\n",
              "      <td>Furniture</td>\n",
              "      <td>Bookcases</td>\n",
              "      <td>f</td>\n",
              "      <td>2012</td>\n",
              "    </tr>\n",
              "    <tr>\n",
              "      <th>1</th>\n",
              "      <td>B-25602</td>\n",
              "      <td>1/4/2013</td>\n",
              "      <td>Pearl</td>\n",
              "      <td>Maharashtra</td>\n",
              "      <td>Pune</td>\n",
              "      <td>66</td>\n",
              "      <td>12</td>\n",
              "      <td>5</td>\n",
              "      <td>Clothing</td>\n",
              "      <td>Stole</td>\n",
              "      <td>f</td>\n",
              "      <td>2013</td>\n",
              "    </tr>\n",
              "    <tr>\n",
              "      <th>2</th>\n",
              "      <td>B-25603</td>\n",
              "      <td>3/4/2014</td>\n",
              "      <td>Jahan</td>\n",
              "      <td>Madhya Pradesh</td>\n",
              "      <td>Bhopal</td>\n",
              "      <td>8</td>\n",
              "      <td>2</td>\n",
              "      <td>3</td>\n",
              "      <td>Clothing</td>\n",
              "      <td>Hankerchief</td>\n",
              "      <td>f</td>\n",
              "      <td>2014</td>\n",
              "    </tr>\n",
              "    <tr>\n",
              "      <th>3</th>\n",
              "      <td>B-25604</td>\n",
              "      <td>3/4/2015</td>\n",
              "      <td>Divsha</td>\n",
              "      <td>Rajasthan</td>\n",
              "      <td>Jaipur</td>\n",
              "      <td>80</td>\n",
              "      <td>56</td>\n",
              "      <td>4</td>\n",
              "      <td>Electronics</td>\n",
              "      <td>Electronic Games</td>\n",
              "      <td>f</td>\n",
              "      <td>2015</td>\n",
              "    </tr>\n",
              "    <tr>\n",
              "      <th>4</th>\n",
              "      <td>B-25605</td>\n",
              "      <td>5/4/2011</td>\n",
              "      <td>Kasheen</td>\n",
              "      <td>West Bengal</td>\n",
              "      <td>Kolkata</td>\n",
              "      <td>168</td>\n",
              "      <td>111</td>\n",
              "      <td>2</td>\n",
              "      <td>Electronics</td>\n",
              "      <td>Phones</td>\n",
              "      <td>m</td>\n",
              "      <td>2011</td>\n",
              "    </tr>\n",
              "  </tbody>\n",
              "</table>\n",
              "</div>"
            ],
            "text/plain": [
              "  Order ID Order Date CustomerName  ...      Sub-Category gender  year of order\n",
              "0  B-25601   1/4/2012       Bharat  ...         Bookcases      f           2012\n",
              "1  B-25602   1/4/2013        Pearl  ...             Stole      f           2013\n",
              "2  B-25603   3/4/2014        Jahan  ...       Hankerchief      f           2014\n",
              "3  B-25604   3/4/2015       Divsha  ...  Electronic Games      f           2015\n",
              "4  B-25605   5/4/2011      Kasheen  ...            Phones      m           2011\n",
              "\n",
              "[5 rows x 12 columns]"
            ]
          },
          "metadata": {
            "tags": []
          },
          "execution_count": 41
        }
      ]
    },
    {
      "cell_type": "code",
      "metadata": {
        "id": "EG0mB1g1OuX0"
      },
      "source": [
        "import pandas as pd\n"
      ],
      "execution_count": 42,
      "outputs": []
    },
    {
      "cell_type": "code",
      "metadata": {
        "colab": {
          "base_uri": "https://localhost:8080/"
        },
        "id": "oJEBeEpi-h-l",
        "outputId": "36c78eca-c8b7-4d94-8f34-750c420529a6"
      },
      "source": [
        "df.dtypes"
      ],
      "execution_count": 43,
      "outputs": [
        {
          "output_type": "execute_result",
          "data": {
            "text/plain": [
              "Order ID         object\n",
              "Order Date       object\n",
              "CustomerName     object\n",
              "State            object\n",
              "City             object\n",
              "Amount            int64\n",
              "Profit            int64\n",
              "Quantity          int64\n",
              "Category         object\n",
              "Sub-Category     object\n",
              "gender           object\n",
              "year of order     int64\n",
              "dtype: object"
            ]
          },
          "metadata": {
            "tags": []
          },
          "execution_count": 43
        }
      ]
    },
    {
      "cell_type": "code",
      "metadata": {
        "id": "OOwEjMaiPkf6"
      },
      "source": [
        ""
      ],
      "execution_count": 43,
      "outputs": []
    },
    {
      "cell_type": "code",
      "metadata": {
        "colab": {
          "base_uri": "https://localhost:8080/"
        },
        "id": "yEYmdjDB_PP2",
        "outputId": "478be001-a609-40bb-c2ff-9548ed102e4e"
      },
      "source": [
        "df.columns"
      ],
      "execution_count": 44,
      "outputs": [
        {
          "output_type": "execute_result",
          "data": {
            "text/plain": [
              "Index(['Order ID', 'Order Date', 'CustomerName', 'State', 'City', 'Amount',\n",
              "       'Profit', 'Quantity', 'Category', 'Sub-Category', 'gender',\n",
              "       'year of order'],\n",
              "      dtype='object')"
            ]
          },
          "metadata": {
            "tags": []
          },
          "execution_count": 44
        }
      ]
    },
    {
      "cell_type": "code",
      "metadata": {
        "colab": {
          "base_uri": "https://localhost:8080/"
        },
        "id": "1923cqKQJmfB",
        "outputId": "6fb13784-4ab7-49ec-a059-190af6110847"
      },
      "source": [
        "df.index"
      ],
      "execution_count": 45,
      "outputs": [
        {
          "output_type": "execute_result",
          "data": {
            "text/plain": [
              "RangeIndex(start=0, stop=99, step=1)"
            ]
          },
          "metadata": {
            "tags": []
          },
          "execution_count": 45
        }
      ]
    },
    {
      "cell_type": "code",
      "metadata": {
        "colab": {
          "base_uri": "https://localhost:8080/",
          "height": 297
        },
        "id": "afhi61yJJ2Ok",
        "outputId": "df6e7f50-9e5d-4c59-c634-99f0362d9bb7"
      },
      "source": [
        "df.describe()"
      ],
      "execution_count": 46,
      "outputs": [
        {
          "output_type": "execute_result",
          "data": {
            "text/html": [
              "<div>\n",
              "<style scoped>\n",
              "    .dataframe tbody tr th:only-of-type {\n",
              "        vertical-align: middle;\n",
              "    }\n",
              "\n",
              "    .dataframe tbody tr th {\n",
              "        vertical-align: top;\n",
              "    }\n",
              "\n",
              "    .dataframe thead th {\n",
              "        text-align: right;\n",
              "    }\n",
              "</style>\n",
              "<table border=\"1\" class=\"dataframe\">\n",
              "  <thead>\n",
              "    <tr style=\"text-align: right;\">\n",
              "      <th></th>\n",
              "      <th>Amount</th>\n",
              "      <th>Profit</th>\n",
              "      <th>Quantity</th>\n",
              "      <th>year of order</th>\n",
              "    </tr>\n",
              "  </thead>\n",
              "  <tbody>\n",
              "    <tr>\n",
              "      <th>count</th>\n",
              "      <td>99.000000</td>\n",
              "      <td>99.000000</td>\n",
              "      <td>99.000000</td>\n",
              "      <td>99.000000</td>\n",
              "    </tr>\n",
              "    <tr>\n",
              "      <th>mean</th>\n",
              "      <td>329.434343</td>\n",
              "      <td>105.020202</td>\n",
              "      <td>3.838384</td>\n",
              "      <td>2014.030303</td>\n",
              "    </tr>\n",
              "    <tr>\n",
              "      <th>std</th>\n",
              "      <td>456.002778</td>\n",
              "      <td>255.419063</td>\n",
              "      <td>2.141462</td>\n",
              "      <td>2.331919</td>\n",
              "    </tr>\n",
              "    <tr>\n",
              "      <th>min</th>\n",
              "      <td>8.000000</td>\n",
              "      <td>0.000000</td>\n",
              "      <td>1.000000</td>\n",
              "      <td>2011.000000</td>\n",
              "    </tr>\n",
              "    <tr>\n",
              "      <th>25%</th>\n",
              "      <td>50.000000</td>\n",
              "      <td>10.500000</td>\n",
              "      <td>2.000000</td>\n",
              "      <td>2012.000000</td>\n",
              "    </tr>\n",
              "    <tr>\n",
              "      <th>50%</th>\n",
              "      <td>133.000000</td>\n",
              "      <td>30.000000</td>\n",
              "      <td>3.000000</td>\n",
              "      <td>2014.000000</td>\n",
              "    </tr>\n",
              "    <tr>\n",
              "      <th>75%</th>\n",
              "      <td>406.500000</td>\n",
              "      <td>81.000000</td>\n",
              "      <td>5.000000</td>\n",
              "      <td>2016.000000</td>\n",
              "    </tr>\n",
              "    <tr>\n",
              "      <th>max</th>\n",
              "      <td>2617.000000</td>\n",
              "      <td>1864.000000</td>\n",
              "      <td>13.000000</td>\n",
              "      <td>2018.000000</td>\n",
              "    </tr>\n",
              "  </tbody>\n",
              "</table>\n",
              "</div>"
            ],
            "text/plain": [
              "            Amount       Profit   Quantity  year of order\n",
              "count    99.000000    99.000000  99.000000      99.000000\n",
              "mean    329.434343   105.020202   3.838384    2014.030303\n",
              "std     456.002778   255.419063   2.141462       2.331919\n",
              "min       8.000000     0.000000   1.000000    2011.000000\n",
              "25%      50.000000    10.500000   2.000000    2012.000000\n",
              "50%     133.000000    30.000000   3.000000    2014.000000\n",
              "75%     406.500000    81.000000   5.000000    2016.000000\n",
              "max    2617.000000  1864.000000  13.000000    2018.000000"
            ]
          },
          "metadata": {
            "tags": []
          },
          "execution_count": 46
        }
      ]
    },
    {
      "cell_type": "code",
      "metadata": {
        "colab": {
          "base_uri": "https://localhost:8080/"
        },
        "id": "iISGDkUtKFjk",
        "outputId": "84564411-199e-4af0-d52d-43212e474c86"
      },
      "source": [
        "df.info()"
      ],
      "execution_count": 47,
      "outputs": [
        {
          "output_type": "stream",
          "text": [
            "<class 'pandas.core.frame.DataFrame'>\n",
            "RangeIndex: 99 entries, 0 to 98\n",
            "Data columns (total 12 columns):\n",
            " #   Column         Non-Null Count  Dtype \n",
            "---  ------         --------------  ----- \n",
            " 0   Order ID       99 non-null     object\n",
            " 1   Order Date     99 non-null     object\n",
            " 2   CustomerName   99 non-null     object\n",
            " 3   State          99 non-null     object\n",
            " 4   City           99 non-null     object\n",
            " 5   Amount         99 non-null     int64 \n",
            " 6   Profit         99 non-null     int64 \n",
            " 7   Quantity       99 non-null     int64 \n",
            " 8   Category       99 non-null     object\n",
            " 9   Sub-Category   99 non-null     object\n",
            " 10  gender         99 non-null     object\n",
            " 11  year of order  99 non-null     int64 \n",
            "dtypes: int64(4), object(8)\n",
            "memory usage: 9.4+ KB\n"
          ],
          "name": "stdout"
        }
      ]
    },
    {
      "cell_type": "code",
      "metadata": {
        "colab": {
          "base_uri": "https://localhost:8080/"
        },
        "id": "JXh8-ebaMWB1",
        "outputId": "4e835b8c-ba05-4b4a-bafe-acd88621ea6a"
      },
      "source": [
        "df.mean()"
      ],
      "execution_count": 48,
      "outputs": [
        {
          "output_type": "execute_result",
          "data": {
            "text/plain": [
              "Amount            329.434343\n",
              "Profit            105.020202\n",
              "Quantity            3.838384\n",
              "year of order    2014.030303\n",
              "dtype: float64"
            ]
          },
          "metadata": {
            "tags": []
          },
          "execution_count": 48
        }
      ]
    },
    {
      "cell_type": "code",
      "metadata": {
        "colab": {
          "base_uri": "https://localhost:8080/"
        },
        "id": "KmU5IpiZM9LR",
        "outputId": "5e90bda0-6fbe-48c6-c7d7-4c8cade593fb"
      },
      "source": [
        "df[\"Amount\"].mean()"
      ],
      "execution_count": 49,
      "outputs": [
        {
          "output_type": "execute_result",
          "data": {
            "text/plain": [
              "329.4343434343434"
            ]
          },
          "metadata": {
            "tags": []
          },
          "execution_count": 49
        }
      ]
    },
    {
      "cell_type": "code",
      "metadata": {
        "colab": {
          "base_uri": "https://localhost:8080/",
          "height": 638
        },
        "id": "HJdOxLZTQJJI",
        "outputId": "abdacddb-8bb0-46a0-8f56-dadfdabfdf13"
      },
      "source": [
        "pd.crosstab(df.State,df.Category)"
      ],
      "execution_count": 50,
      "outputs": [
        {
          "output_type": "execute_result",
          "data": {
            "text/html": [
              "<div>\n",
              "<style scoped>\n",
              "    .dataframe tbody tr th:only-of-type {\n",
              "        vertical-align: middle;\n",
              "    }\n",
              "\n",
              "    .dataframe tbody tr th {\n",
              "        vertical-align: top;\n",
              "    }\n",
              "\n",
              "    .dataframe thead th {\n",
              "        text-align: right;\n",
              "    }\n",
              "</style>\n",
              "<table border=\"1\" class=\"dataframe\">\n",
              "  <thead>\n",
              "    <tr style=\"text-align: right;\">\n",
              "      <th>Category</th>\n",
              "      <th>Clothing</th>\n",
              "      <th>Electronics</th>\n",
              "      <th>Furniture</th>\n",
              "    </tr>\n",
              "    <tr>\n",
              "      <th>State</th>\n",
              "      <th></th>\n",
              "      <th></th>\n",
              "      <th></th>\n",
              "    </tr>\n",
              "  </thead>\n",
              "  <tbody>\n",
              "    <tr>\n",
              "      <th>Andhra Pradesh</th>\n",
              "      <td>2</td>\n",
              "      <td>0</td>\n",
              "      <td>0</td>\n",
              "    </tr>\n",
              "    <tr>\n",
              "      <th>Bihar</th>\n",
              "      <td>4</td>\n",
              "      <td>0</td>\n",
              "      <td>1</td>\n",
              "    </tr>\n",
              "    <tr>\n",
              "      <th>Goa</th>\n",
              "      <td>2</td>\n",
              "      <td>1</td>\n",
              "      <td>1</td>\n",
              "    </tr>\n",
              "    <tr>\n",
              "      <th>Gujarat</th>\n",
              "      <td>2</td>\n",
              "      <td>0</td>\n",
              "      <td>1</td>\n",
              "    </tr>\n",
              "    <tr>\n",
              "      <th>Haryana</th>\n",
              "      <td>1</td>\n",
              "      <td>2</td>\n",
              "      <td>1</td>\n",
              "    </tr>\n",
              "    <tr>\n",
              "      <th>Himachal Pradesh</th>\n",
              "      <td>2</td>\n",
              "      <td>1</td>\n",
              "      <td>1</td>\n",
              "    </tr>\n",
              "    <tr>\n",
              "      <th>Jammu and Kashmir</th>\n",
              "      <td>4</td>\n",
              "      <td>1</td>\n",
              "      <td>0</td>\n",
              "    </tr>\n",
              "    <tr>\n",
              "      <th>Karnataka</th>\n",
              "      <td>3</td>\n",
              "      <td>1</td>\n",
              "      <td>2</td>\n",
              "    </tr>\n",
              "    <tr>\n",
              "      <th>Kerala</th>\n",
              "      <td>3</td>\n",
              "      <td>1</td>\n",
              "      <td>1</td>\n",
              "    </tr>\n",
              "    <tr>\n",
              "      <th>Madhya Pradesh</th>\n",
              "      <td>10</td>\n",
              "      <td>5</td>\n",
              "      <td>3</td>\n",
              "    </tr>\n",
              "    <tr>\n",
              "      <th>Maharashtra</th>\n",
              "      <td>9</td>\n",
              "      <td>4</td>\n",
              "      <td>3</td>\n",
              "    </tr>\n",
              "    <tr>\n",
              "      <th>Nagaland</th>\n",
              "      <td>3</td>\n",
              "      <td>1</td>\n",
              "      <td>0</td>\n",
              "    </tr>\n",
              "    <tr>\n",
              "      <th>Punjab</th>\n",
              "      <td>4</td>\n",
              "      <td>0</td>\n",
              "      <td>0</td>\n",
              "    </tr>\n",
              "    <tr>\n",
              "      <th>Rajasthan</th>\n",
              "      <td>4</td>\n",
              "      <td>1</td>\n",
              "      <td>1</td>\n",
              "    </tr>\n",
              "    <tr>\n",
              "      <th>Sikkim</th>\n",
              "      <td>3</td>\n",
              "      <td>0</td>\n",
              "      <td>0</td>\n",
              "    </tr>\n",
              "    <tr>\n",
              "      <th>Tamil Nadu</th>\n",
              "      <td>2</td>\n",
              "      <td>0</td>\n",
              "      <td>0</td>\n",
              "    </tr>\n",
              "    <tr>\n",
              "      <th>Uttar Pradesh</th>\n",
              "      <td>1</td>\n",
              "      <td>1</td>\n",
              "      <td>0</td>\n",
              "    </tr>\n",
              "    <tr>\n",
              "      <th>West Bengal</th>\n",
              "      <td>3</td>\n",
              "      <td>2</td>\n",
              "      <td>1</td>\n",
              "    </tr>\n",
              "  </tbody>\n",
              "</table>\n",
              "</div>"
            ],
            "text/plain": [
              "Category           Clothing  Electronics  Furniture\n",
              "State                                              \n",
              "Andhra Pradesh            2            0          0\n",
              "Bihar                     4            0          1\n",
              "Goa                       2            1          1\n",
              "Gujarat                   2            0          1\n",
              "Haryana                   1            2          1\n",
              "Himachal Pradesh          2            1          1\n",
              "Jammu and Kashmir         4            1          0\n",
              "Karnataka                 3            1          2\n",
              "Kerala                    3            1          1\n",
              "Madhya Pradesh           10            5          3\n",
              "Maharashtra               9            4          3\n",
              "Nagaland                  3            1          0\n",
              "Punjab                    4            0          0\n",
              "Rajasthan                 4            1          1\n",
              "Sikkim                    3            0          0\n",
              "Tamil Nadu                2            0          0\n",
              "Uttar Pradesh             1            1          0\n",
              "West Bengal               3            2          1"
            ]
          },
          "metadata": {
            "tags": []
          },
          "execution_count": 50
        }
      ]
    },
    {
      "cell_type": "code",
      "metadata": {
        "colab": {
          "base_uri": "https://localhost:8080/",
          "height": 282
        },
        "id": "NAOo4tnSRtAw",
        "outputId": "f28e6acb-1fab-47e7-b059-7058906c506f"
      },
      "source": [
        "df[\"Amount\"].plot()"
      ],
      "execution_count": 51,
      "outputs": [
        {
          "output_type": "execute_result",
          "data": {
            "text/plain": [
              "<matplotlib.axes._subplots.AxesSubplot at 0x7f536c3e5750>"
            ]
          },
          "metadata": {
            "tags": []
          },
          "execution_count": 51
        },
        {
          "output_type": "display_data",
          "data": {
            "image/png": "[encoded data removed]",
            "text/plain": [
              "<Figure size 432x288 with 1 Axes>"
            ]
          },
          "metadata": {
            "tags": [],
            "needs_background": "light"
          }
        }
      ]
    },
    {
      "cell_type": "code",
      "metadata": {
        "colab": {
          "base_uri": "https://localhost:8080/",
          "height": 285
        },
        "id": "nFo0UJbNT0XP",
        "outputId": "2d1c565b-64e8-428d-8070-5eecce1b01a0"
      },
      "source": [
        "df[\"Amount\"].hist()"
      ],
      "execution_count": 52,
      "outputs": [
        {
          "output_type": "execute_result",
          "data": {
            "text/plain": [
              "<matplotlib.axes._subplots.AxesSubplot at 0x7f536c35d390>"
            ]
          },
          "metadata": {
            "tags": []
          },
          "execution_count": 52
        },
        {
          "output_type": "display_data",
          "data": {
            "image/png": "[encoded data removed]",
            "text/plain": [
              "<Figure size 432x288 with 1 Axes>"
            ]
          },
          "metadata": {
            "tags": [],
            "needs_background": "light"
          }
        }
      ]
    },
    {
      "cell_type": "code",
      "metadata": {
        "id": "rcZrxd4rTrW2"
      },
      "source": [
        ""
      ],
      "execution_count": 52,
      "outputs": []
    },
    {
      "cell_type": "code",
      "metadata": {
        "id": "MECQicdCTRwL"
      },
      "source": [
        ""
      ],
      "execution_count": 52,
      "outputs": []
    }
  ]
}